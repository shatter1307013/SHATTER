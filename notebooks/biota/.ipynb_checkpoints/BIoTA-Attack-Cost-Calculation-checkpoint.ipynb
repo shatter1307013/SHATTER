{
 "cells": [
  {
   "cell_type": "markdown",
   "id": "48a58ad3",
   "metadata": {},
   "source": [
    "# Importing Libraries"
   ]
  },
  {
   "cell_type": "code",
   "execution_count": 1,
   "id": "c0098b5c",
   "metadata": {},
   "outputs": [],
   "source": [
    "import pandas as pd\n",
    "import numpy as np\n",
    "from z3 import *\n",
    "import sys\n",
    "sys.path.append('../../scripts/biota/')\n",
    "from BIoTA_Control import *\n",
    "from BIoTA_Attack import *"
   ]
  },
  {
   "cell_type": "markdown",
   "id": "018e5aa4",
   "metadata": {},
   "source": [
    "# Fixed Parameter"
   ]
  },
  {
   "cell_type": "code",
   "execution_count": 2,
   "id": "792a1c2e",
   "metadata": {},
   "outputs": [],
   "source": [
    "CO2_FRESH_AIR = 400             # CO2 concentration (ppm) of fresh air\n",
    "TEMP_FRESH_AIR = 91.4           # Temperature (33 degree F) of the fresh air\n",
    "CP_AIR = 1.026                  # Specific heat of fresh air\n",
    "DEF_TEMP_SUPPLY_AIR =  55.4     # Default temperature (degree fahrenheit) of supply air (13 degree celsius)\n",
    "COST_PER_KWH = 0.1137           # USD Cost per KWh"
   ]
  },
  {
   "cell_type": "markdown",
   "id": "d3a3ec4c",
   "metadata": {},
   "source": [
    "# Variable Parameters"
   ]
  },
  {
   "cell_type": "code",
   "execution_count": 3,
   "id": "54259ac6",
   "metadata": {},
   "outputs": [],
   "source": [
    "zone_temp_setpoint = [0, 75.2, 75.2, 75.2, 75.2]     # list of temperature (fahrenheit) setpoint of the different zones\n",
    "zone_co2_setpoint = [0, 1000, 1000, 1000, 1000]      # list of CO2 (ppm) setpoint of the corresponding zones\n",
    "control_time = 1                                     # control time (in minute)"
   ]
  },
  {
   "cell_type": "markdown",
   "id": "ddf2745a",
   "metadata": {},
   "source": [
    "# Accessing Zone-Activity Information"
   ]
  },
  {
   "cell_type": "code",
   "execution_count": 4,
   "id": "1d2120b1",
   "metadata": {},
   "outputs": [],
   "source": [
    "zones = pd.read_excel('../../data/Aras-Information.xlsx', sheet_name='Zone-Info')\n",
    "zone_volume = zones[\"Volume (cf)\"].to_list()                  # Zones' volumes (cubic feet)\n",
    "pp_co2 = zones[\"CO2 Emission by Occupant (cfm)\"].to_list()    # CO2 Emission by Occupant (cfm)\n",
    "pp_heat = zones[\"Heat Radiation by Occupant (W)\"].to_list()   # Heat Radiation by Occupant (W)\n",
    "load = zones[\"Heat Radiated by Appliances (W)\"].to_list()     # Heat radiated by Appliances (W)\n",
    "        \n",
    "activities = pd.read_excel('Aras-Information.xlsx', sheet_name='Activity-Info')\n",
    "\n",
    "activity_zone_map = dict()\n",
    "for i in range(len(activities)):\n",
    "    activity_zone_map[int(activities[\"Activity ID\"][i])] = int(activities[\"Zone ID\"][i])"
   ]
  },
  {
   "cell_type": "markdown",
   "id": "bbe7fc64",
   "metadata": {},
   "source": [
    "# Generating Possible Combination of Occupants"
   ]
  },
  {
   "cell_type": "code",
   "execution_count": 5,
   "id": "ed85d8e9",
   "metadata": {},
   "outputs": [
    {
     "data": {
      "text/plain": [
       "{(0, 0, 0, 0, 2),\n",
       " (0, 0, 0, 1, 1),\n",
       " (0, 0, 0, 2, 0),\n",
       " (0, 0, 1, 0, 1),\n",
       " (0, 0, 1, 1, 0),\n",
       " (0, 0, 2, 0, 0),\n",
       " (0, 1, 0, 0, 1),\n",
       " (0, 1, 0, 1, 0),\n",
       " (0, 1, 1, 0, 0),\n",
       " (0, 2, 0, 0, 0),\n",
       " (1, 0, 0, 0, 1),\n",
       " (1, 0, 0, 1, 0),\n",
       " (1, 0, 1, 0, 0),\n",
       " (1, 1, 0, 0, 0),\n",
       " (2, 0, 0, 0, 0)}"
      ]
     },
     "execution_count": 5,
     "metadata": {},
     "output_type": "execute_result"
    }
   ],
   "source": [
    "import itertools\n",
    "all_samples = list(itertools.permutations([1, 1, 0, 0, 0]))\n",
    "all_samples += list(itertools.permutations([2, 0, 0, 0, 0]))\n",
    "# however, there are repetations\n",
    "\n",
    "unique_samples = set()\n",
    "\n",
    "for data in all_samples:    \n",
    "    unique_samples.add(data)\n",
    "    \n",
    "unique_samples"
   ]
  },
  {
   "cell_type": "markdown",
   "id": "a1ca3222",
   "metadata": {},
   "source": [
    "# Tabulate the Control Costs for all Possible Combinations"
   ]
  },
  {
   "cell_type": "code",
   "execution_count": 6,
   "id": "a0dc4081",
   "metadata": {},
   "outputs": [
    {
     "data": {
      "text/plain": [
       "{(1, 0, 1, 0, 0): 0.0007955147465,\n",
       " (1, 1, 0, 0, 0): 0.0007418396295,\n",
       " (0, 0, 1, 0, 1): 0.00420112231555,\n",
       " (2, 0, 0, 0, 0): 0.0,\n",
       " (0, 0, 0, 2, 0): 0.0127561109392,\n",
       " (0, 0, 0, 0, 2): 0.0068112151381,\n",
       " (0, 1, 0, 0, 1): 0.00414744719855,\n",
       " (1, 0, 0, 0, 1): 0.00340560756905,\n",
       " (0, 0, 1, 1, 0): 0.0071735702161000005,\n",
       " (0, 2, 0, 0, 0): 0.001483679259,\n",
       " (0, 0, 0, 1, 1): 0.00978366303865,\n",
       " (0, 1, 0, 1, 0): 0.0071198950991,\n",
       " (0, 0, 2, 0, 0): 0.001591029493,\n",
       " (0, 1, 1, 0, 0): 0.0015373543760000001,\n",
       " (1, 0, 0, 1, 0): 0.0063780554696}"
      ]
     },
     "execution_count": 6,
     "metadata": {},
     "output_type": "execute_result"
    }
   ],
   "source": [
    "# convert list to a tuple\n",
    "def to_tuple(a):\n",
    "    try:\n",
    "        return tuple(to_tuple(i) for i in a)\n",
    "    except TypeError:\n",
    "        return a\n",
    "    \n",
    "dict_control_cost = dict()\n",
    "for sample in unique_samples:\n",
    "    zone_occupant = list(sample)    \n",
    "    dict_control_cost[sample] = control_cost(zones, zone_occupant, zone_temp_setpoint, zone_volume, pp_co2, pp_heat, load, zone_co2_setpoint, control_time)\n",
    "dict_control_cost"
   ]
  },
  {
   "cell_type": "markdown",
   "id": "eb8a0fe7",
   "metadata": {},
   "source": [
    "# Tabulate the Attack Vectors for all Possible Combinations"
   ]
  },
  {
   "cell_type": "code",
   "execution_count": 7,
   "id": "b41ee41b",
   "metadata": {},
   "outputs": [
    {
     "data": {
      "text/plain": [
       "{(1, 0, 1, 0, 0): ([0, 0, 0, 2, 0],\n",
       "  [-1, 0, -1, 2, 0],\n",
       "  [0.0, 0.0, -17.876412755463104, -15.274516737026401, 0.0],\n",
       "  [0.0, 0, 4.513888888888914, -45.611111111111086, 0]),\n",
       " (1, 1, 0, 0, 0): ([0, 0, 0, 2, 0],\n",
       "  [-1, -1, 0, 2, 0],\n",
       "  [0.0, -17.85909606660449, 0.0, -15.274516737026401, 0.0],\n",
       "  [0.0, 7.330246913580254, 0, -45.611111111111086, 0]),\n",
       " (0, 0, 1, 0, 1): ([0, 0, 0, 2, 0],\n",
       "  [0, 0, -1, 2, -1],\n",
       "  [0.0, 0.0, -17.876412755463104, -15.274516737026401, -18.6343599816567],\n",
       "  [0, 0, 4.513888888888914, -45.611111111111086, 12.789351851851848]),\n",
       " (2, 0, 0, 0, 0): ([0, 0, 0, 2, 0],\n",
       "  [-2, 0, 0, 2, 0],\n",
       "  [0.0, 0.0, 0.0, -15.274516737026401, 0.0],\n",
       "  [0.0, 0, 0, -45.611111111111086, 0]),\n",
       " (0, 0, 0, 2, 0): ([0, 0, 0, 2, 0],\n",
       "  [0, 0, 0, 0, 0],\n",
       "  [0.0, 0.0, 0.0, 0.0, 0.0],\n",
       "  [0, 0, 0, 0, 0]),\n",
       " (0, 0, 0, 0, 2): ([0, 0, 0, 2, 0],\n",
       "  [0, 0, 0, 2, -2],\n",
       "  [0.0, 0.0, 0.0, -15.274516737026401, -19.49094218553562],\n",
       "  [0, 0, 0, -45.611111111111086, 25.578703703703695]),\n",
       " (0, 1, 0, 0, 1): ([0, 0, 0, 2, 0],\n",
       "  [0, -1, 0, 2, -1],\n",
       "  [0.0, -17.85909606660449, 0.0, -15.274516737026401, -18.6343599816567],\n",
       "  [0, 7.330246913580254, 0, -45.611111111111086, 12.789351851851848]),\n",
       " (1, 0, 0, 0, 1): ([0, 0, 0, 2, 0],\n",
       "  [-1, 0, 0, 2, -1],\n",
       "  [0.0, 0.0, 0.0, -15.274516737026401, -18.6343599816567],\n",
       "  [0.0, 0, 0, -45.611111111111086, 12.789351851851848]),\n",
       " (0, 0, 1, 1, 0): ([0, 0, 0, 2, 0],\n",
       "  [0, 0, -1, 1, 0],\n",
       "  [0.0, 0.0, -17.876412755463104, -16.526147257402087, 0.0],\n",
       "  [0, 0, 4.513888888888914, -33.80555555555554, 0]),\n",
       " (0, 2, 0, 0, 0): ([0, 0, 0, 2, 0],\n",
       "  [0, -2, 0, 2, 0],\n",
       "  [0.0, -17.940414355431198, 0.0, -15.274516737026401, 0.0],\n",
       "  [0, 14.660493827160508, 0, -45.611111111111086, 0]),\n",
       " (0, 0, 0, 1, 1): ([0, 0, 0, 2, 0],\n",
       "  [0, 0, 0, 1, -1],\n",
       "  [0.0, 0.0, 0.0, -16.526147257402087, -18.6343599816567],\n",
       "  [0, 0, 0, -33.80555555555554, 12.789351851851848]),\n",
       " (0, 1, 0, 1, 0): ([0, 0, 0, 2, 0],\n",
       "  [0, -1, 0, 1, 0],\n",
       "  [0.0, -17.85909606660449, 0.0, -16.526147257402087, 0.0],\n",
       "  [0, 7.330246913580254, 0, -33.80555555555554, 0]),\n",
       " (0, 0, 2, 0, 0): ([0, 0, 0, 2, 0],\n",
       "  [0, 0, -2, 2, 0],\n",
       "  [0.0, 0.0, -17.975047733148433, -15.274516737026401, 0.0],\n",
       "  [0, 0, 9.027777777777828, -45.611111111111086, 0]),\n",
       " (0, 1, 1, 0, 0): ([0, 0, 0, 2, 0],\n",
       "  [0, -1, -1, 2, 0],\n",
       "  [0.0, -17.85909606660449, -17.876412755463104, -15.274516737026401, 0.0],\n",
       "  [0, 7.330246913580254, 4.513888888888914, -45.611111111111086, 0]),\n",
       " (1, 0, 0, 1, 0): ([0, 0, 0, 2, 0],\n",
       "  [-1, 0, 0, 1, 0],\n",
       "  [0.0, 0.0, 0.0, -16.526147257402087, 0.0],\n",
       "  [0.0, 0, 0, -33.80555555555554, 0])}"
      ]
     },
     "execution_count": 7,
     "metadata": {},
     "output_type": "execute_result"
    }
   ],
   "source": [
    "# convert list to a tuple\n",
    "def to_tuple(a):\n",
    "    try:\n",
    "        return tuple(to_tuple(i) for i in a)\n",
    "    except TypeError:\n",
    "        return a\n",
    "    \n",
    "dict_attack_vectors = dict()\n",
    "for sample in unique_samples:\n",
    "    zone_occupant = list(sample)    \n",
    "    dict_attack_vectors[sample] = attack_vector(zones, zone_occupant, zone_temp_setpoint, zone_volume, pp_co2, pp_heat, load, zone_co2_setpoint, control_time)\n",
    "dict_attack_vectors"
   ]
  },
  {
   "cell_type": "markdown",
   "id": "c6aa5052",
   "metadata": {},
   "source": [
    "# BIoTA Attack Cost Calculation for House-A"
   ]
  },
  {
   "cell_type": "code",
   "execution_count": null,
   "id": "00cc3d6b",
   "metadata": {},
   "outputs": [],
   "source": [
    "att_dataframe_house_A = pd.DataFrame(columns = ['House', 'Day', 'Minute', 'Zone Occupant (Outdoor) (person)', 'Zone Occupant (Bedroom) (person)', 'Zone Occupant (Livingroom) (person)', 'Zone Occupant (Kitchen) (person)' ,'Zone Occupant (Bathroom) (person)', 'Attacked Zone Occupant (Outdoor) (person)', 'Attacked Zone Occupant (Bedroom) (person)', 'Attacked Zone Occupant (Livingroom) (person)', 'Attacked Zone Occupant (Kitchen) (person)' ,'Attacked Zone Occupant (Bathroom) (person)', 'Required Injection in Occupancy Sensor Measurement (Outdoor) (person)', 'Required Injection in Occupancy Sensor Measurement (Bedroom) (person)', 'Required Injection in Occupancy Sensor Measurement (Livingroom) (person)', 'Required Injection in Occupancy Sensor Measurement (Kitchen) (person)', 'Required Injection in Occupancy Sensor Measurement (Bathroom) (person)', 'Required Injection in Temperature Sensor Measurement (Outdoor) (degree F)', 'Required Injection in Temperature Sensor Measurement (Bedroom) (degree F)', 'Required Injection in Temperature Sensor Measurement (Livingroom) (degree F)', 'Required Injection in Temperature Sensor Measurement (Kitchen) (degree F)', 'Required Injection in Temperature Sensor Measurement (Bathroom) (degree F)', 'Required Injection in CO2 Sensor Measurement (Outdoor) (ppm)', 'Required Injection in CO2 Sensor Measurement (Bedroom) (ppm)', 'Required Injection in CO2 Sensor Measurement (Livingroom) (ppm)', 'Required Injection in CO2 Sensor Measurement (Kitchen) (ppm)', 'Required Injection in CO2 Sensor Measurement (Bathroom) (ppm)', 'Benign Control Cost ($)', 'Attack Control Cost ($)'])\n",
    "control_dataframe_house_A = pd.read_csv('../../data/biota/BIoTA-Dataframe_House-A.csv')\n",
    "\n",
    "for i in range(len(control_dataframe_house_A)):\n",
    "    house = control_dataframe_house_A['House'][i]\n",
    "    day = control_dataframe_house_A['Day'][i]\n",
    "    minute = control_dataframe_house_A['Minute'][i]\n",
    "    zone_occupant = control_dataframe_house_A.iloc[i, 3: 8].to_numpy().tolist()\n",
    "    attack_info = dict_attack_vectors[to_tuple(zone_occupant)]\n",
    "    att_zone_occupant = attack_info[0]\n",
    "    del_zone_occ = attack_info[1]\n",
    "    del_zone_temp = attack_info[2]\n",
    "    del_zone_co2 = attack_info[3]\n",
    "    benign_cost = control_dataframe_house_A['Control Cost ($)'][i]\n",
    "    attack_cost = dict_control_cost[to_tuple(att_zone_occupant)]    \n",
    "    record = [[house, day, minute] + zone_occupant + att_zone_occupant + del_zone_occ + del_zone_temp + del_zone_co2 + [benign_cost, attack_cost]]\n",
    "    att_dataframe_house_A = att_dataframe_house_A.append(pd.DataFrame(record, columns=att_dataframe_house_A.columns), ignore_index=True)\n",
    "att_dataframe_house_A.to_csv('../../data/biota/BIoTA-Attack-Dataframe_House-A.csv', index = False)\n",
    "att_dataframe_house_A"
   ]
  },
  {
   "cell_type": "markdown",
   "id": "6a2541a4",
   "metadata": {},
   "source": [
    "# BIoTA Attack Cost Calculation for House-B"
   ]
  },
  {
   "cell_type": "code",
   "execution_count": null,
   "id": "415bab4c",
   "metadata": {},
   "outputs": [],
   "source": [
    "att_dataframe_house_B = pd.DataFrame(columns = ['House', 'Day', 'Minute', 'Zone Occupant (Outdoor) (person)', 'Zone Occupant (Bedroom) (person)', 'Zone Occupant (Livingroom) (person)', 'Zone Occupant (Kitchen) (person)' ,'Zone Occupant (Bathroom) (person)', 'Attacked Zone Occupant (Outdoor) (person)', 'Attacked Zone Occupant (Bedroom) (person)', 'Attacked Zone Occupant (Livingroom) (person)', 'Attacked Zone Occupant (Kitchen) (person)' ,'Attacked Zone Occupant (Bathroom) (person)', 'Required Injection in Occupancy Sensor Measurement (Outdoor) (person)', 'Required Injection in Occupancy Sensor Measurement (Bedroom) (person)', 'Required Injection in Occupancy Sensor Measurement (Livingroom) (person)', 'Required Injection in Occupancy Sensor Measurement (Kitchen) (person)', 'Required Injection in Occupancy Sensor Measurement (Bathroom) (person)', 'Required Injection in Temperature Sensor Measurement (Outdoor) (degree F)', 'Required Injection in Temperature Sensor Measurement (Bedroom) (degree F)', 'Required Injection in Temperature Sensor Measurement (Livingroom) (degree F)', 'Required Injection in Temperature Sensor Measurement (Kitchen) (degree F)', 'Required Injection in Temperature Sensor Measurement (Bathroom) (degree F)', 'Required Injection in CO2 Sensor Measurement (Outdoor) (ppm)', 'Required Injection in CO2 Sensor Measurement (Bedroom) (ppm)', 'Required Injection in CO2 Sensor Measurement (Livingroom) (ppm)', 'Required Injection in CO2 Sensor Measurement (Kitchen) (ppm)', 'Required Injection in CO2 Sensor Measurement (Bathroom) (ppm)', 'Benign Control Cost ($)', 'Attack Control Cost ($)'])\n",
    "control_dataframe_house_B = pd.read_csv('../../data/biota/BIoTA-Dataframe_House-B.csv')\n",
    "\n",
    "for i in range(len(control_dataframe_house_B)):\n",
    "    house = control_dataframe_house_B['House'][i]\n",
    "    day = control_dataframe_house_B['Day'][i]\n",
    "    minute = control_dataframe_house_B['Minute'][i]\n",
    "    zone_occupant = control_dataframe_house_B.iloc[i, 3: 8].to_numpy().tolist()\n",
    "    attack_info = dict_attack_vectors[to_tuple(zone_occupant)]\n",
    "    att_zone_occupant = attack_info[0]\n",
    "    del_zone_occ = attack_info[1]\n",
    "    del_zone_temp = attack_info[2]\n",
    "    del_zone_co2 = attack_info[3]\n",
    "    benign_cost = control_dataframe_house_B['Control Cost ($)'][i]\n",
    "    attack_cost = dict_control_cost[to_tuple(att_zone_occupant)]    \n",
    "    record = [[house, day, minute] + zone_occupant + att_zone_occupant + del_zone_occ + del_zone_temp + del_zone_co2 + [benign_cost, attack_cost]]\n",
    "    att_dataframe_house_B = att_dataframe_house_A.append(pd.DataFrame(record, columns=att_dataframe_house_A.columns), ignore_index=True)\n",
    "att_dataframe_house_B.to_csv('../../data/biota/BIoTA-Attack-Dataframe_House-B.csv', index = False)\n",
    "att_dataframe_house_B"
   ]
  }
 ],
 "metadata": {
  "kernelspec": {
   "display_name": "Python 3 (ipykernel)",
   "language": "python",
   "name": "python3"
  },
  "language_info": {
   "codemirror_mode": {
    "name": "ipython",
    "version": 3
   },
   "file_extension": ".py",
   "mimetype": "text/x-python",
   "name": "python",
   "nbconvert_exporter": "python",
   "pygments_lexer": "ipython3",
   "version": "3.9.13"
  }
 },
 "nbformat": 4,
 "nbformat_minor": 5
}
