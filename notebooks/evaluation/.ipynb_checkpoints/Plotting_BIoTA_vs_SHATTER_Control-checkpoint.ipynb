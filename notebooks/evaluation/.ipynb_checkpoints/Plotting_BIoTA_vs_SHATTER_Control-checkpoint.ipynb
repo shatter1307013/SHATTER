{
 "cells": [
  {
   "cell_type": "markdown",
   "id": "1eb7b389",
   "metadata": {},
   "source": [
    "# Importing Libraries"
   ]
  },
  {
   "cell_type": "code",
   "execution_count": 1,
   "id": "7c368206",
   "metadata": {},
   "outputs": [],
   "source": [
    "import os\n",
    "import numpy as np\n",
    "import matplotlib.pyplot as plt\n",
    "import pandas as pd\n",
    "import random\n",
    "from matplotlib.ticker import MaxNLocator\n",
    "import matplotlib"
   ]
  },
  {
   "cell_type": "markdown",
   "id": "4e253bdb",
   "metadata": {},
   "source": [
    "# Importing Datasets"
   ]
  },
  {
   "cell_type": "code",
   "execution_count": 4,
   "id": "70cd6f4c",
   "metadata": {},
   "outputs": [],
   "source": [
    "biota_house_A = pd.read_csv(\"../../data/biota/BIoTA-Dataframe_House-A.csv\")\n",
    "biota_house_B = pd.read_csv(\"../../data/biota/BIoTA-Dataframe_House-B.csv\")\n",
    "shatter_house_A = pd.read_csv(\"../../data/shatter/SHATTER-Dataframe_House-A.csv\")\n",
    "shatter_house_B = pd.read_csv(\"../../data/shatter/SHATTER-Dataframe_House-B.csv\")"
   ]
  },
  {
   "cell_type": "markdown",
   "id": "450f926f",
   "metadata": {},
   "source": [
    "# Day-wise BIoTA Benign Cost House-A"
   ]
  },
  {
   "cell_type": "code",
   "execution_count": 8,
   "id": "d2468e11",
   "metadata": {},
   "outputs": [
    {
     "data": {
      "text/plain": [
       "81.26768300347297"
      ]
     },
     "execution_count": 8,
     "metadata": {},
     "output_type": "execute_result"
    }
   ],
   "source": [
    "day_wise_biota_benign_cost_house_A = []\n",
    "for i in range(0, 43200, 1440):\n",
    "    day_wise_biota_benign_cost_house_A.append(sum(biota_house_A[\"Control Cost ($)\"][i:i+1400]))\n",
    "total_biota_benign_cost_house_A = sum(day_wise_biota_benign_cost_house_A)\n",
    "total_biota_benign_cost_house_A"
   ]
  },
  {
   "cell_type": "markdown",
   "id": "dfd8b3e2",
   "metadata": {},
   "source": [
    "# Day-wise BIoTA Benign Cost House-B"
   ]
  },
  {
   "cell_type": "code",
   "execution_count": 9,
   "id": "dfcd51f0",
   "metadata": {},
   "outputs": [
    {
     "data": {
      "text/plain": [
       "42.0751585015841"
      ]
     },
     "execution_count": 9,
     "metadata": {},
     "output_type": "execute_result"
    }
   ],
   "source": [
    "day_wise_biota_benign_cost_house_B = []\n",
    "for i in range(0, 43200, 1440):\n",
    "    day_wise_biota_benign_cost_house_B.append(sum(biota_house_B[\"Control Cost ($)\"][i:i+1400]))\n",
    "total_biota_benign_cost_house_B = sum(day_wise_biota_benign_cost_house_B)\n",
    "total_biota_benign_cost_house_B"
   ]
  },
  {
   "cell_type": "markdown",
   "id": "067a6044",
   "metadata": {},
   "source": [
    "# Day-wise SHATTER Benign Cost House-A"
   ]
  },
  {
   "cell_type": "code",
   "execution_count": null,
   "id": "97b72d77",
   "metadata": {},
   "outputs": [],
   "source": [
    "day_wise_biota_shatter_cost_house_A = []\n",
    "for i in range(0, 43200, 1440):\n",
    "    day_wise_biota_benign_cost_house_A.append(sum(shatter_house_A[\"Control Cost ($)\"][i:i+1400]))\n",
    "total_shatter_benign_cost_house_A = sum(day_wise_biota_benign_cost_house_B)\n",
    "total_shatter_benign_cost_house_A"
   ]
  }
 ],
 "metadata": {
  "kernelspec": {
   "display_name": "Python 3 (ipykernel)",
   "language": "python",
   "name": "python3"
  },
  "language_info": {
   "codemirror_mode": {
    "name": "ipython",
    "version": 3
   },
   "file_extension": ".py",
   "mimetype": "text/x-python",
   "name": "python",
   "nbconvert_exporter": "python",
   "pygments_lexer": "ipython3",
   "version": "3.9.13"
  }
 },
 "nbformat": 4,
 "nbformat_minor": 5
}
